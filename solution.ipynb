{
 "cells": [
  {
   "cell_type": "markdown",
   "metadata": {},
   "source": [
    "Video Games Recommendation System \"Hall of Fame\"\n",
    "==="
   ]
  },
  {
   "cell_type": "markdown",
   "metadata": {},
   "source": [
    "*Team: Solo-Master <br/>\n",
    "Lead: Vladimir Yu. Ivanov*"
   ]
  },
  {
   "cell_type": "markdown",
   "metadata": {},
   "source": [
    "<img src=\"odroid.jpg\" alt=\"drawing\" width=\"512\"/>"
   ]
  },
  {
   "cell_type": "markdown",
   "metadata": {},
   "source": [
    "Source of data:\n",
    "\n",
    "- https://www.vgchartz.com/ -- video game journalism resource with DB of historical info about sold video games copies\n",
    "- https://github.com/GregorUT/vgchartzScrape -- ready to use scrapper of the DB from that resource\n",
    "\n",
    "Data are stored as ***vgsales.csv***"
   ]
  },
  {
   "cell_type": "code",
   "execution_count": 1,
   "metadata": {},
   "outputs": [],
   "source": [
    "import pandas           as pd\n",
    "import pandas_profiling as pf\n",
    "import ipywidgets       as widget\n",
    "\n",
    "from IPython.display import display\n",
    "from IPython.display import clear_output"
   ]
  },
  {
   "cell_type": "markdown",
   "metadata": {},
   "source": [
    "Data Exploring\n",
    "---"
   ]
  },
  {
   "cell_type": "code",
   "execution_count": 2,
   "metadata": {},
   "outputs": [
    {
     "data": {
      "text/html": [
       "<div>\n",
       "<style scoped>\n",
       "    .dataframe tbody tr th:only-of-type {\n",
       "        vertical-align: middle;\n",
       "    }\n",
       "\n",
       "    .dataframe tbody tr th {\n",
       "        vertical-align: top;\n",
       "    }\n",
       "\n",
       "    .dataframe thead th {\n",
       "        text-align: right;\n",
       "    }\n",
       "</style>\n",
       "<table border=\"1\" class=\"dataframe\">\n",
       "  <thead>\n",
       "    <tr style=\"text-align: right;\">\n",
       "      <th></th>\n",
       "      <th>Rank</th>\n",
       "      <th>Name</th>\n",
       "      <th>Platform</th>\n",
       "      <th>Year</th>\n",
       "      <th>Genre</th>\n",
       "      <th>Publisher</th>\n",
       "      <th>NA_Sales</th>\n",
       "      <th>EU_Sales</th>\n",
       "      <th>JP_Sales</th>\n",
       "      <th>Other_Sales</th>\n",
       "      <th>Global_Sales</th>\n",
       "    </tr>\n",
       "  </thead>\n",
       "  <tbody>\n",
       "    <tr>\n",
       "      <th>0</th>\n",
       "      <td>1</td>\n",
       "      <td>Wii Sports</td>\n",
       "      <td>Wii</td>\n",
       "      <td>2006.0</td>\n",
       "      <td>Sports</td>\n",
       "      <td>Nintendo</td>\n",
       "      <td>41.49</td>\n",
       "      <td>29.02</td>\n",
       "      <td>3.77</td>\n",
       "      <td>8.46</td>\n",
       "      <td>82.74</td>\n",
       "    </tr>\n",
       "    <tr>\n",
       "      <th>1</th>\n",
       "      <td>2</td>\n",
       "      <td>Super Mario Bros.</td>\n",
       "      <td>NES</td>\n",
       "      <td>1985.0</td>\n",
       "      <td>Platform</td>\n",
       "      <td>Nintendo</td>\n",
       "      <td>29.08</td>\n",
       "      <td>3.58</td>\n",
       "      <td>6.81</td>\n",
       "      <td>0.77</td>\n",
       "      <td>40.24</td>\n",
       "    </tr>\n",
       "    <tr>\n",
       "      <th>2</th>\n",
       "      <td>3</td>\n",
       "      <td>Mario Kart Wii</td>\n",
       "      <td>Wii</td>\n",
       "      <td>2008.0</td>\n",
       "      <td>Racing</td>\n",
       "      <td>Nintendo</td>\n",
       "      <td>15.85</td>\n",
       "      <td>12.88</td>\n",
       "      <td>3.79</td>\n",
       "      <td>3.31</td>\n",
       "      <td>35.82</td>\n",
       "    </tr>\n",
       "    <tr>\n",
       "      <th>3</th>\n",
       "      <td>4</td>\n",
       "      <td>Wii Sports Resort</td>\n",
       "      <td>Wii</td>\n",
       "      <td>2009.0</td>\n",
       "      <td>Sports</td>\n",
       "      <td>Nintendo</td>\n",
       "      <td>15.75</td>\n",
       "      <td>11.01</td>\n",
       "      <td>3.28</td>\n",
       "      <td>2.96</td>\n",
       "      <td>33.00</td>\n",
       "    </tr>\n",
       "    <tr>\n",
       "      <th>4</th>\n",
       "      <td>5</td>\n",
       "      <td>Pokemon Red/Pokemon Blue</td>\n",
       "      <td>GB</td>\n",
       "      <td>1996.0</td>\n",
       "      <td>Role-Playing</td>\n",
       "      <td>Nintendo</td>\n",
       "      <td>11.27</td>\n",
       "      <td>8.89</td>\n",
       "      <td>10.22</td>\n",
       "      <td>1.00</td>\n",
       "      <td>31.37</td>\n",
       "    </tr>\n",
       "    <tr>\n",
       "      <th>5</th>\n",
       "      <td>6</td>\n",
       "      <td>Tetris</td>\n",
       "      <td>GB</td>\n",
       "      <td>1989.0</td>\n",
       "      <td>Puzzle</td>\n",
       "      <td>Nintendo</td>\n",
       "      <td>23.20</td>\n",
       "      <td>2.26</td>\n",
       "      <td>4.22</td>\n",
       "      <td>0.58</td>\n",
       "      <td>30.26</td>\n",
       "    </tr>\n",
       "    <tr>\n",
       "      <th>6</th>\n",
       "      <td>7</td>\n",
       "      <td>New Super Mario Bros.</td>\n",
       "      <td>DS</td>\n",
       "      <td>2006.0</td>\n",
       "      <td>Platform</td>\n",
       "      <td>Nintendo</td>\n",
       "      <td>11.38</td>\n",
       "      <td>9.23</td>\n",
       "      <td>6.50</td>\n",
       "      <td>2.90</td>\n",
       "      <td>30.01</td>\n",
       "    </tr>\n",
       "    <tr>\n",
       "      <th>7</th>\n",
       "      <td>8</td>\n",
       "      <td>Wii Play</td>\n",
       "      <td>Wii</td>\n",
       "      <td>2006.0</td>\n",
       "      <td>Misc</td>\n",
       "      <td>Nintendo</td>\n",
       "      <td>14.03</td>\n",
       "      <td>9.20</td>\n",
       "      <td>2.93</td>\n",
       "      <td>2.85</td>\n",
       "      <td>29.02</td>\n",
       "    </tr>\n",
       "    <tr>\n",
       "      <th>8</th>\n",
       "      <td>9</td>\n",
       "      <td>New Super Mario Bros. Wii</td>\n",
       "      <td>Wii</td>\n",
       "      <td>2009.0</td>\n",
       "      <td>Platform</td>\n",
       "      <td>Nintendo</td>\n",
       "      <td>14.59</td>\n",
       "      <td>7.06</td>\n",
       "      <td>4.70</td>\n",
       "      <td>2.26</td>\n",
       "      <td>28.62</td>\n",
       "    </tr>\n",
       "    <tr>\n",
       "      <th>9</th>\n",
       "      <td>10</td>\n",
       "      <td>Duck Hunt</td>\n",
       "      <td>NES</td>\n",
       "      <td>1984.0</td>\n",
       "      <td>Shooter</td>\n",
       "      <td>Nintendo</td>\n",
       "      <td>26.93</td>\n",
       "      <td>0.63</td>\n",
       "      <td>0.28</td>\n",
       "      <td>0.47</td>\n",
       "      <td>28.31</td>\n",
       "    </tr>\n",
       "  </tbody>\n",
       "</table>\n",
       "</div>"
      ],
      "text/plain": [
       "   Rank                       Name Platform    Year         Genre Publisher  \\\n",
       "0     1                 Wii Sports      Wii  2006.0        Sports  Nintendo   \n",
       "1     2          Super Mario Bros.      NES  1985.0      Platform  Nintendo   \n",
       "2     3             Mario Kart Wii      Wii  2008.0        Racing  Nintendo   \n",
       "3     4          Wii Sports Resort      Wii  2009.0        Sports  Nintendo   \n",
       "4     5   Pokemon Red/Pokemon Blue       GB  1996.0  Role-Playing  Nintendo   \n",
       "5     6                     Tetris       GB  1989.0        Puzzle  Nintendo   \n",
       "6     7      New Super Mario Bros.       DS  2006.0      Platform  Nintendo   \n",
       "7     8                   Wii Play      Wii  2006.0          Misc  Nintendo   \n",
       "8     9  New Super Mario Bros. Wii      Wii  2009.0      Platform  Nintendo   \n",
       "9    10                  Duck Hunt      NES  1984.0       Shooter  Nintendo   \n",
       "\n",
       "   NA_Sales  EU_Sales  JP_Sales  Other_Sales  Global_Sales  \n",
       "0     41.49     29.02      3.77         8.46         82.74  \n",
       "1     29.08      3.58      6.81         0.77         40.24  \n",
       "2     15.85     12.88      3.79         3.31         35.82  \n",
       "3     15.75     11.01      3.28         2.96         33.00  \n",
       "4     11.27      8.89     10.22         1.00         31.37  \n",
       "5     23.20      2.26      4.22         0.58         30.26  \n",
       "6     11.38      9.23      6.50         2.90         30.01  \n",
       "7     14.03      9.20      2.93         2.85         29.02  \n",
       "8     14.59      7.06      4.70         2.26         28.62  \n",
       "9     26.93      0.63      0.28         0.47         28.31  "
      ]
     },
     "execution_count": 2,
     "metadata": {},
     "output_type": "execute_result"
    }
   ],
   "source": [
    "df = pd.read_csv('vgsales.csv')\n",
    "df.head(n=10)"
   ]
  },
  {
   "cell_type": "code",
   "execution_count": 3,
   "metadata": {},
   "outputs": [
    {
     "name": "stdout",
     "output_type": "stream",
     "text": [
      "total games: 16598\n"
     ]
    }
   ],
   "source": [
    "print(f'total games: {df.shape[0]}')"
   ]
  },
  {
   "cell_type": "markdown",
   "metadata": {},
   "source": [
    "Columns description:\n",
    "\n",
    "- **Rank** - ranking of overall sales\n",
    "- **Name** - game name\n",
    "- **Platform** - platform the game was released on (i.e. Gameboy, Playstation)\n",
    "- **Year** - game release year\n",
    "- **Genre** - game genre\n",
    "- **Publisher** - game publisher\n",
    "- **NA_Sales** - sales in North America (in millions)\n",
    "- **EU_Sales** - sales in Europe (in millions)\n",
    "- **JP_Sales** - sales in Japan (in millions)\n",
    "- **Other_Sales** - sales in the rest of the world (in millions)\n",
    "- **Global_Sales** - total worldwide sales (in millions)"
   ]
  },
  {
   "cell_type": "markdown",
   "metadata": {},
   "source": [
    "Quick EDA\n",
    "---"
   ]
  },
  {
   "cell_type": "code",
   "execution_count": 4,
   "metadata": {},
   "outputs": [
    {
     "data": {
      "application/vnd.jupyter.widget-view+json": {
       "model_id": "b029b2566acb4b2f9a545d214bcfadc0",
       "version_major": 2,
       "version_minor": 0
      },
      "text/plain": [
       "Summarize dataset:   0%|          | 0/24 [00:00<?, ?it/s]"
      ]
     },
     "metadata": {},
     "output_type": "display_data"
    },
    {
     "data": {
      "application/vnd.jupyter.widget-view+json": {
       "model_id": "3722356f03b7479397a92540786f0404",
       "version_major": 2,
       "version_minor": 0
      },
      "text/plain": [
       "Generate report structure:   0%|          | 0/1 [00:00<?, ?it/s]"
      ]
     },
     "metadata": {},
     "output_type": "display_data"
    },
    {
     "data": {
      "application/vnd.jupyter.widget-view+json": {
       "model_id": "3296f2ca348d48bfb088e30565f5767b",
       "version_major": 2,
       "version_minor": 0
      },
      "text/plain": [
       "Render HTML:   0%|          | 0/1 [00:00<?, ?it/s]"
      ]
     },
     "metadata": {},
     "output_type": "display_data"
    },
    {
     "data": {
      "application/vnd.jupyter.widget-view+json": {
       "model_id": "5f6b99514f434f6b9b889a780cbd249c",
       "version_major": 2,
       "version_minor": 0
      },
      "text/plain": [
       "Export report to file:   0%|          | 0/1 [00:00<?, ?it/s]"
      ]
     },
     "metadata": {},
     "output_type": "display_data"
    }
   ],
   "source": [
    "pf.ProfileReport(df).to_file('profile.html')"
   ]
  },
  {
   "cell_type": "markdown",
   "metadata": {},
   "source": [
    "- Platforms: 31\n",
    "- Years: 1980 - 2020\n",
    "- Genres: 12\n",
    "- Publishers: 578\n",
    "- Sales groups: 4"
   ]
  },
  {
   "cell_type": "markdown",
   "metadata": {},
   "source": [
    "Popularity-based System\n",
    "---"
   ]
  },
  {
   "cell_type": "code",
   "execution_count": 5,
   "metadata": {
    "scrolled": false
   },
   "outputs": [
    {
     "data": {
      "application/vnd.jupyter.widget-view+json": {
       "model_id": "52da6d4e2a62465681ef0bcb188aeba4",
       "version_major": 2,
       "version_minor": 0
      },
      "text/plain": [
       "Tab(children=(SelectMultiple(options=('DS', 'PS2', 'PS3', 'Wii', 'X360', 'PSP', 'PS', 'PC', 'XB', 'GBA', 'NES'…"
      ]
     },
     "metadata": {},
     "output_type": "display_data"
    },
    {
     "data": {
      "application/vnd.jupyter.widget-view+json": {
       "model_id": "484d88ad158a4b46b2fb1b5a59b42013",
       "version_major": 2,
       "version_minor": 0
      },
      "text/plain": [
       "Button(button_style='success', description='recommend', icon='check', style=ButtonStyle())"
      ]
     },
     "metadata": {},
     "output_type": "display_data"
    },
    {
     "name": "stdout",
     "output_type": "stream",
     "text": [
      "1\t Wii Sports\n",
      "2\t Super Mario Bros.\n",
      "3\t Mario Kart Wii\n",
      "4\t Wii Sports Resort\n",
      "5\t Pokemon Red/Pokemon Blue\n",
      "6\t Tetris\n",
      "7\t New Super Mario Bros.\n",
      "8\t Wii Play\n",
      "9\t New Super Mario Bros. Wii\n",
      "10\t Duck Hunt\n"
     ]
    }
   ],
   "source": [
    "TOP_K = 10\n",
    "\n",
    "FILTER_TYPE = [\n",
    "    'Platforms' ,\n",
    "    'Years'     ,\n",
    "    'Genres'    ,\n",
    "    'Publishers',\n",
    "    'Sales'     ,\n",
    "]\n",
    "\n",
    "FILTER_LIST = [\n",
    "    widget.SelectMultiple(\n",
    "        options=[\n",
    "            'DS'  ,\n",
    "            'PS2' ,\n",
    "            'PS3' ,\n",
    "            'Wii' ,\n",
    "            'X360',\n",
    "            'PSP' ,\n",
    "            'PS'  ,\n",
    "            'PC'  ,\n",
    "            'XB'  ,\n",
    "            'GBA' ,\n",
    "            'NES' ,\n",
    "        ],\n",
    "        rows=10+1,\n",
    "    ),\n",
    "    widget.IntRangeSlider(\n",
    "        value=[1980, 2020],\n",
    "        min=1980          ,\n",
    "        max=2020          ,\n",
    "        step=1            ,\n",
    "        readout_format='d',\n",
    "    ),\n",
    "    widget.SelectMultiple(\n",
    "        options=[\n",
    "            'Action'      ,\n",
    "            'Sports'      ,\n",
    "            'Misc'        ,\n",
    "            'Role-Playing',\n",
    "            'Shooter'     ,\n",
    "            'Adventure'   ,\n",
    "            'Racing'      ,\n",
    "            'Platform'    ,\n",
    "            'Simulation'  ,\n",
    "            'Fighting'    ,\n",
    "        ],\n",
    "        rows=10,\n",
    "    ),\n",
    "    widget.SelectMultiple(\n",
    "        options=[\n",
    "            'Electronic Arts'             ,\n",
    "            'Activision'                  ,\n",
    "            'Namco Bandai Games'          ,\n",
    "            'Ubisoft'                     ,\n",
    "            'Konami Digital Entertainment',\n",
    "            'THQ'                         ,\n",
    "            'Nintendo'                    ,\n",
    "            'Sony Computer Entertainment' ,\n",
    "            'Sega'                        ,\n",
    "            'Take-Two Interactive'        ,\n",
    "        ],\n",
    "        rows=10,\n",
    "    ),\n",
    "    widget.RadioButtons(\n",
    "        options=[\n",
    "            'NA_Sales'    ,\n",
    "            'EU_Sales'    ,\n",
    "            'JP_Sales'    ,\n",
    "            'Other_Sales' ,\n",
    "            'Global_Sales',\n",
    "        ],\n",
    "        value='Global_Sales',\n",
    "    ),\n",
    "]\n",
    "\n",
    "tabs = widget.Tab()\n",
    "butn = widget.Button(description='recommend', button_style='success', icon='check')\n",
    "\n",
    "tabs.children = FILTER_LIST\n",
    "for (idx, val) in enumerate(FILTER_TYPE):\n",
    "    tabs.set_title(idx, val)\n",
    "    \n",
    "def click_cb(btn):\n",
    "    '''\n",
    "    Button click callback: filters source dataset and prints recommendation.\n",
    "        btn [inp]: button object the callback was triggered on\n",
    "    '''\n",
    "    assert btn, 'oops'\n",
    "    result = df.copy()\n",
    "    for (idx, itm) in enumerate(FILTER_LIST):\n",
    "        name = FILTER_TYPE[idx]\n",
    "        data = itm.value\n",
    "        if name == 'Platforms' and data:\n",
    "            result = result[result['Platform'].isin(data)]\n",
    "        if name == 'Years':\n",
    "            result = result[(data[0] <= result['Year']) & (result['Year'] <= data[1])]\n",
    "        if name == 'Genres' and data:\n",
    "            result = result[result['Genre'].isin(data)]\n",
    "        if name == 'Publishers' and data:\n",
    "            result = result[result['Publisher'].isin(data)]\n",
    "        if name == 'Sales':\n",
    "            result = result.sort_values(by=data, ascending=False)\n",
    "    clear_output(), display(tabs), display(butn)\n",
    "    result = result['Name'][:TOP_K].to_list()\n",
    "    for (idx, itm) in enumerate(result):\n",
    "        print(f'{idx+1}\\t {itm}')\n",
    "\n",
    "butn.on_click(click_cb)\n",
    "\n",
    "display(tabs)\n",
    "display(butn)"
   ]
  },
  {
   "cell_type": "markdown",
   "metadata": {},
   "source": [
    "Content-based System\n",
    "---\n",
    "\n",
    "TBD"
   ]
  }
 ],
 "metadata": {
  "kernelspec": {
   "display_name": "Python 3",
   "language": "python",
   "name": "python3"
  },
  "language_info": {
   "codemirror_mode": {
    "name": "ipython",
    "version": 3
   },
   "file_extension": ".py",
   "mimetype": "text/x-python",
   "name": "python",
   "nbconvert_exporter": "python",
   "pygments_lexer": "ipython3",
   "version": "3.8.5"
  }
 },
 "nbformat": 4,
 "nbformat_minor": 4
}
